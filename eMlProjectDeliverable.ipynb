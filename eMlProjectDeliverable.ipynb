{
  "metadata": {
    "kernelspec": {
      "display_name": "Python 3",
      "name": "python3"
    },
    "language_info": {
      "name": "python",
      "version": "3.10.14",
      "mimetype": "text/x-python",
      "codemirror_mode": {
        "name": "ipython",
        "version": 3
      },
      "pygments_lexer": "ipython3",
      "nbconvert_exporter": "python",
      "file_extension": ".py"
    },
    "kaggle": {
      "accelerator": "none",
      "dataSources": [
        {
          "sourceId": 1958932,
          "sourceType": "datasetVersion",
          "datasetId": 1169316
        }
      ],
      "dockerImageVersionId": 30786,
      "isInternetEnabled": false,
      "language": "python",
      "sourceType": "notebook",
      "isGpuEnabled": false
    },
    "colab": {
      "provenance": [],
      "gpuType": "T4",
      "include_colab_link": true
    },
    "accelerator": "GPU"
  },
  "nbformat_minor": 0,
  "nbformat": 4,
  "cells": [
    {
      "cell_type": "markdown",
      "metadata": {
        "id": "view-in-github",
        "colab_type": "text"
      },
      "source": [
        "<a href=\"https://colab.research.google.com/github/iness000/Recipe-Generation-Based-on-Given-Ingredients/blob/main/eMlProjectDeliverable.ipynb\" target=\"_parent\"><img src=\"https://colab.research.google.com/assets/colab-badge.svg\" alt=\"Open In Colab\"/></a>"
      ]
    },
    {
      "cell_type": "markdown",
      "source": [
        "# **Recipe Generation Based on Given Ingredients**"
      ],
      "metadata": {
        "id": "3BfP4q6IfhYG"
      }
    },
    {
      "cell_type": "markdown",
      "source": [
        "Experiment overview"
      ],
      "metadata": {
        "id": "gdQDj1udLqu3"
      }
    },
    {
      "cell_type": "markdown",
      "source": [
        "\n",
        "\n",
        "   This project aims to develop a model that can generate cooking recipes based on a list of provided ingredients. We'll use a Transformer-based architecture, a powerful deep learning model well-suited for sequence-to-sequence tasks.\n",
        "\n",
        "   In essence,we used a powerful combination of deep learning libraries (PyTorch, Transformers) and data processing tools (Pandas, SentencePiece, Rouge-Score) to build and evaluate a recipe generation model."
      ],
      "metadata": {
        "id": "48OyawZ5Lsgz"
      }
    },
    {
      "cell_type": "markdown",
      "source": [
        "# **Transformer Architecture**"
      ],
      "metadata": {
        "id": "qTouu98kfisU"
      }
    },
    {
      "source": [
        "from google.colab import drive\n",
        "drive.mount('/content/drive')"
      ],
      "cell_type": "code",
      "metadata": {
        "id": "fYLyO6vys3LE",
        "outputId": "9dc04b72-7996-48c9-a51e-724d42a0977a",
        "colab": {
          "base_uri": "https://localhost:8080/"
        }
      },
      "execution_count": null,
      "outputs": [
        {
          "output_type": "stream",
          "name": "stdout",
          "text": [
            "Mounted at /content/drive\n"
          ]
        }
      ]
    },
    {
      "cell_type": "code",
      "source": [
        "pip install tensorflow\n"
      ],
      "metadata": {
        "trusted": true,
        "_kg_hide-input": true,
        "id": "wvJdGcsTseb6",
        "colab": {
          "base_uri": "https://localhost:8080/"
        },
        "outputId": "9491df21-9916-4cf4-8391-751580d9ad75"
      },
      "outputs": [
        {
          "output_type": "stream",
          "name": "stdout",
          "text": [
            "Requirement already satisfied: tensorflow in /usr/local/lib/python3.10/dist-packages (2.17.1)\n",
            "Requirement already satisfied: absl-py>=1.0.0 in /usr/local/lib/python3.10/dist-packages (from tensorflow) (1.4.0)\n",
            "Requirement already satisfied: astunparse>=1.6.0 in /usr/local/lib/python3.10/dist-packages (from tensorflow) (1.6.3)\n",
            "Requirement already satisfied: flatbuffers>=24.3.25 in /usr/local/lib/python3.10/dist-packages (from tensorflow) (24.3.25)\n",
            "Requirement already satisfied: gast!=0.5.0,!=0.5.1,!=0.5.2,>=0.2.1 in /usr/local/lib/python3.10/dist-packages (from tensorflow) (0.6.0)\n",
            "Requirement already satisfied: google-pasta>=0.1.1 in /usr/local/lib/python3.10/dist-packages (from tensorflow) (0.2.0)\n",
            "Requirement already satisfied: h5py>=3.10.0 in /usr/local/lib/python3.10/dist-packages (from tensorflow) (3.12.1)\n",
            "Requirement already satisfied: libclang>=13.0.0 in /usr/local/lib/python3.10/dist-packages (from tensorflow) (18.1.1)\n",
            "Requirement already satisfied: ml-dtypes<0.5.0,>=0.3.1 in /usr/local/lib/python3.10/dist-packages (from tensorflow) (0.4.1)\n",
            "Requirement already satisfied: opt-einsum>=2.3.2 in /usr/local/lib/python3.10/dist-packages (from tensorflow) (3.4.0)\n",
            "Requirement already satisfied: packaging in /usr/local/lib/python3.10/dist-packages (from tensorflow) (24.2)\n",
            "Requirement already satisfied: protobuf!=4.21.0,!=4.21.1,!=4.21.2,!=4.21.3,!=4.21.4,!=4.21.5,<5.0.0dev,>=3.20.3 in /usr/local/lib/python3.10/dist-packages (from tensorflow) (4.25.5)\n",
            "Requirement already satisfied: requests<3,>=2.21.0 in /usr/local/lib/python3.10/dist-packages (from tensorflow) (2.32.3)\n",
            "Requirement already satisfied: setuptools in /usr/local/lib/python3.10/dist-packages (from tensorflow) (75.1.0)\n",
            "Requirement already satisfied: six>=1.12.0 in /usr/local/lib/python3.10/dist-packages (from tensorflow) (1.17.0)\n",
            "Requirement already satisfied: termcolor>=1.1.0 in /usr/local/lib/python3.10/dist-packages (from tensorflow) (2.5.0)\n",
            "Requirement already satisfied: typing-extensions>=3.6.6 in /usr/local/lib/python3.10/dist-packages (from tensorflow) (4.12.2)\n",
            "Requirement already satisfied: wrapt>=1.11.0 in /usr/local/lib/python3.10/dist-packages (from tensorflow) (1.17.0)\n",
            "Requirement already satisfied: grpcio<2.0,>=1.24.3 in /usr/local/lib/python3.10/dist-packages (from tensorflow) (1.68.1)\n",
            "Requirement already satisfied: tensorboard<2.18,>=2.17 in /usr/local/lib/python3.10/dist-packages (from tensorflow) (2.17.1)\n",
            "Requirement already satisfied: keras>=3.2.0 in /usr/local/lib/python3.10/dist-packages (from tensorflow) (3.5.0)\n",
            "Requirement already satisfied: tensorflow-io-gcs-filesystem>=0.23.1 in /usr/local/lib/python3.10/dist-packages (from tensorflow) (0.37.1)\n",
            "Requirement already satisfied: numpy<2.0.0,>=1.23.5 in /usr/local/lib/python3.10/dist-packages (from tensorflow) (1.26.4)\n",
            "Requirement already satisfied: wheel<1.0,>=0.23.0 in /usr/local/lib/python3.10/dist-packages (from astunparse>=1.6.0->tensorflow) (0.45.1)\n",
            "Requirement already satisfied: rich in /usr/local/lib/python3.10/dist-packages (from keras>=3.2.0->tensorflow) (13.9.4)\n",
            "Requirement already satisfied: namex in /usr/local/lib/python3.10/dist-packages (from keras>=3.2.0->tensorflow) (0.0.8)\n",
            "Requirement already satisfied: optree in /usr/local/lib/python3.10/dist-packages (from keras>=3.2.0->tensorflow) (0.13.1)\n",
            "Requirement already satisfied: charset-normalizer<4,>=2 in /usr/local/lib/python3.10/dist-packages (from requests<3,>=2.21.0->tensorflow) (3.4.0)\n",
            "Requirement already satisfied: idna<4,>=2.5 in /usr/local/lib/python3.10/dist-packages (from requests<3,>=2.21.0->tensorflow) (3.10)\n",
            "Requirement already satisfied: urllib3<3,>=1.21.1 in /usr/local/lib/python3.10/dist-packages (from requests<3,>=2.21.0->tensorflow) (2.2.3)\n",
            "Requirement already satisfied: certifi>=2017.4.17 in /usr/local/lib/python3.10/dist-packages (from requests<3,>=2.21.0->tensorflow) (2024.12.14)\n",
            "Requirement already satisfied: markdown>=2.6.8 in /usr/local/lib/python3.10/dist-packages (from tensorboard<2.18,>=2.17->tensorflow) (3.7)\n",
            "Requirement already satisfied: tensorboard-data-server<0.8.0,>=0.7.0 in /usr/local/lib/python3.10/dist-packages (from tensorboard<2.18,>=2.17->tensorflow) (0.7.2)\n",
            "Requirement already satisfied: werkzeug>=1.0.1 in /usr/local/lib/python3.10/dist-packages (from tensorboard<2.18,>=2.17->tensorflow) (3.1.3)\n",
            "Requirement already satisfied: MarkupSafe>=2.1.1 in /usr/local/lib/python3.10/dist-packages (from werkzeug>=1.0.1->tensorboard<2.18,>=2.17->tensorflow) (3.0.2)\n",
            "Requirement already satisfied: markdown-it-py>=2.2.0 in /usr/local/lib/python3.10/dist-packages (from rich->keras>=3.2.0->tensorflow) (3.0.0)\n",
            "Requirement already satisfied: pygments<3.0.0,>=2.13.0 in /usr/local/lib/python3.10/dist-packages (from rich->keras>=3.2.0->tensorflow) (2.18.0)\n",
            "Requirement already satisfied: mdurl~=0.1 in /usr/local/lib/python3.10/dist-packages (from markdown-it-py>=2.2.0->rich->keras>=3.2.0->tensorflow) (0.1.2)\n"
          ]
        }
      ],
      "execution_count": null
    },
    {
      "cell_type": "code",
      "source": [
        "# Import necessary libraries\n",
        "import pandas as pd\n",
        "import torch\n",
        "from transformers import AutoTokenizer\n",
        "from torchvision import transforms, models\n",
        "from PIL import Image\n",
        "import os\n",
        "import numpy as np\n",
        "\n",
        "# Load the dataset\n",
        "file_path = \"/content/drive/MyDrive/Colab Notebooks/Food Ingredients and Recipe Dataset with Image Name Mapping.csv\"\n",
        "data = pd.read_csv(file_path)\n",
        "\n",
        "# Display dataset structure\n",
        "print(data.info())\n",
        "print(data.head())\n"
      ],
      "metadata": {
        "trusted": true,
        "execution": {
          "iopub.status.busy": "2024-12-07T21:23:24.787879Z",
          "iopub.execute_input": "2024-12-07T21:23:24.788357Z",
          "iopub.status.idle": "2024-12-07T21:23:31.454565Z",
          "shell.execute_reply.started": "2024-12-07T21:23:24.788306Z",
          "shell.execute_reply": "2024-12-07T21:23:31.453413Z"
        },
        "id": "bRgLULOXseb6",
        "outputId": "cbb3a23c-b97c-44d4-9139-77779010cf53",
        "colab": {
          "base_uri": "https://localhost:8080/"
        }
      },
      "outputs": [
        {
          "output_type": "stream",
          "name": "stdout",
          "text": [
            "<class 'pandas.core.frame.DataFrame'>\n",
            "RangeIndex: 13501 entries, 0 to 13500\n",
            "Data columns (total 6 columns):\n",
            " #   Column               Non-Null Count  Dtype \n",
            "---  ------               --------------  ----- \n",
            " 0   Unnamed: 0           13501 non-null  int64 \n",
            " 1   Title                13496 non-null  object\n",
            " 2   Ingredients          13501 non-null  object\n",
            " 3   Instructions         13493 non-null  object\n",
            " 4   Image_Name           13501 non-null  object\n",
            " 5   Cleaned_Ingredients  13501 non-null  object\n",
            "dtypes: int64(1), object(5)\n",
            "memory usage: 633.0+ KB\n",
            "None\n",
            "   Unnamed: 0                                              Title  \\\n",
            "0           0  Miso-Butter Roast Chicken With Acorn Squash Pa...   \n",
            "1           1                    Crispy Salt and Pepper Potatoes   \n",
            "2           2                        Thanksgiving Mac and Cheese   \n",
            "3           3                 Italian Sausage and Bread Stuffing   \n",
            "4           4                                       Newton's Law   \n",
            "\n",
            "                                         Ingredients  \\\n",
            "0  ['1 (3½–4-lb.) whole chicken', '2¾ tsp. kosher...   \n",
            "1  ['2 large egg whites', '1 pound new potatoes (...   \n",
            "2  ['1 cup evaporated milk', '1 cup whole milk', ...   \n",
            "3  ['1 (¾- to 1-pound) round Italian loaf, cut in...   \n",
            "4  ['1 teaspoon dark brown sugar', '1 teaspoon ho...   \n",
            "\n",
            "                                        Instructions  \\\n",
            "0  Pat chicken dry with paper towels, season all ...   \n",
            "1  Preheat oven to 400°F and line a rimmed baking...   \n",
            "2  Place a rack in middle of oven; preheat to 400...   \n",
            "3  Preheat oven to 350°F with rack in middle. Gen...   \n",
            "4  Stir together brown sugar and hot water in a c...   \n",
            "\n",
            "                                          Image_Name  \\\n",
            "0  miso-butter-roast-chicken-acorn-squash-panzanella   \n",
            "1         crispy-salt-and-pepper-potatoes-dan-kluger   \n",
            "2         thanksgiving-mac-and-cheese-erick-williams   \n",
            "3          italian-sausage-and-bread-stuffing-240559   \n",
            "4                 newtons-law-apple-bourbon-cocktail   \n",
            "\n",
            "                                 Cleaned_Ingredients  \n",
            "0  ['1 (3½–4-lb.) whole chicken', '2¾ tsp. kosher...  \n",
            "1  ['2 large egg whites', '1 pound new potatoes (...  \n",
            "2  ['1 cup evaporated milk', '1 cup whole milk', ...  \n",
            "3  ['1 (¾- to 1-pound) round Italian loaf, cut in...  \n",
            "4  ['1 teaspoon dark brown sugar', '1 teaspoon ho...  \n"
          ]
        }
      ],
      "execution_count": null
    },
    {
      "cell_type": "markdown",
      "source": [
        "# **Data Cleaning**"
      ],
      "metadata": {
        "id": "w21OzxJGseb6"
      }
    },
    {
      "cell_type": "markdown",
      "source": [
        "* Dropped unnecessary columns ( \"Ingredients\", and \"Image_Name\") to focus on the essential data: Cleaned_Ingredients and Instructions.\n",
        "* Filled missing values in Title, Instructions, and Cleaned_Ingredients to prevent issues during tokenization and embedding.\n",
        "* Cleaned and normalized text data\n",
        "*  Convert  columns to strings"
      ],
      "metadata": {
        "id": "dpoJ87oJseb6"
      }
    },
    {
      "cell_type": "markdown",
      "source": [],
      "metadata": {
        "id": "KeQo-Fwfseb6"
      }
    },
    {
      "cell_type": "code",
      "source": [
        "# Drop unnecessary column\n",
        "\n",
        "data = data.drop(columns=[\"Unnamed: 0\"], errors=\"ignore\") # Changed 'df' to 'data'\n",
        "columns_to_drop = [\"Ingredients\", \"Image_Name\"]  # Drop raw ingredients and image names\n",
        "data = data.drop(columns=columns_to_drop, errors=\"ignore\")\n",
        "\n",
        "\n",
        "\n",
        "\n",
        "# Clean and normalize text in Cleaned_Ingredients\n",
        "data['Cleaned_Ingredients'] = data['Cleaned_Ingredients'].str.replace(r\"[^a-zA-Z0-9, ]\", \"\", regex=True).str.lower()\n",
        "data['Instructions'] = data['Instructions'].str.replace(r\"[^a-zA-Z0-9, ]\", \"\", regex=True).str.lower()\n",
        "\n",
        "# Check the cleaned data\n",
        "print(data.head())\n",
        "print(data.info())\n"
      ],
      "metadata": {
        "trusted": true,
        "execution": {
          "iopub.status.busy": "2024-12-07T21:23:31.456691Z",
          "iopub.execute_input": "2024-12-07T21:23:31.457089Z",
          "iopub.status.idle": "2024-12-07T21:23:31.889409Z",
          "shell.execute_reply.started": "2024-12-07T21:23:31.457053Z",
          "shell.execute_reply": "2024-12-07T21:23:31.888337Z"
        },
        "id": "ZfdgzD2Qseb7",
        "outputId": "3817354b-ce97-4074-db1b-2fdb55674f12",
        "colab": {
          "base_uri": "https://localhost:8080/"
        }
      },
      "outputs": [
        {
          "output_type": "stream",
          "name": "stdout",
          "text": [
            "                                               Title  \\\n",
            "0  Miso-Butter Roast Chicken With Acorn Squash Pa...   \n",
            "1                    Crispy Salt and Pepper Potatoes   \n",
            "2                        Thanksgiving Mac and Cheese   \n",
            "3                 Italian Sausage and Bread Stuffing   \n",
            "4                                       Newton's Law   \n",
            "\n",
            "                                        Instructions  \\\n",
            "0  pat chicken dry with paper towels, season all ...   \n",
            "1  preheat oven to 400f and line a rimmed baking ...   \n",
            "2  place a rack in middle of oven preheat to 400 ...   \n",
            "3  preheat oven to 350f with rack in middle gener...   \n",
            "4  stir together brown sugar and hot water in a c...   \n",
            "\n",
            "                                 Cleaned_Ingredients  \n",
            "0  1 34lb whole chicken, 2 tsp kosher salt, divid...  \n",
            "1  2 large egg whites, 1 pound new potatoes about...  \n",
            "2  1 cup evaporated milk, 1 cup whole milk, 1 tsp...  \n",
            "3  1  to 1pound round italian loaf, cut into 1inc...  \n",
            "4  1 teaspoon dark brown sugar, 1 teaspoon hot wa...  \n",
            "<class 'pandas.core.frame.DataFrame'>\n",
            "RangeIndex: 13501 entries, 0 to 13500\n",
            "Data columns (total 3 columns):\n",
            " #   Column               Non-Null Count  Dtype \n",
            "---  ------               --------------  ----- \n",
            " 0   Title                13496 non-null  object\n",
            " 1   Instructions         13493 non-null  object\n",
            " 2   Cleaned_Ingredients  13501 non-null  object\n",
            "dtypes: object(3)\n",
            "memory usage: 316.6+ KB\n",
            "None\n"
          ]
        }
      ],
      "execution_count": null
    },
    {
      "cell_type": "code",
      "source": [
        "print(data.info())"
      ],
      "metadata": {
        "colab": {
          "base_uri": "https://localhost:8080/"
        },
        "id": "GyTr9ROZavkz",
        "outputId": "d80995df-248b-40e9-d1fb-734454ba6665"
      },
      "execution_count": null,
      "outputs": [
        {
          "output_type": "stream",
          "name": "stdout",
          "text": [
            "<class 'pandas.core.frame.DataFrame'>\n",
            "RangeIndex: 13501 entries, 0 to 13500\n",
            "Data columns (total 3 columns):\n",
            " #   Column               Non-Null Count  Dtype \n",
            "---  ------               --------------  ----- \n",
            " 0   Title                13496 non-null  object\n",
            " 1   Instructions         13493 non-null  object\n",
            " 2   Cleaned_Ingredients  13501 non-null  object\n",
            "dtypes: object(3)\n",
            "memory usage: 316.6+ KB\n",
            "None\n"
          ]
        }
      ]
    },
    {
      "cell_type": "code",
      "source": [
        "# Handle missing values\n",
        "\n",
        "\n",
        "data['Title'] = data['Title'].fillna(\"Unknown Recipe\")\n",
        "\n",
        "# Drop rows Cleaned_Ingredients is missing\n",
        "data = data[~data['Cleaned_Ingredients'].isnull() & (data['Cleaned_Ingredients'].str.strip() != \"\")]\n",
        "data = data[~data['Instructions'].isnull() & (data['Instructions'].str.strip() != \"\")]"
      ],
      "metadata": {
        "id": "F_30wME6e0ij"
      },
      "execution_count": null,
      "outputs": []
    },
    {
      "cell_type": "code",
      "source": [],
      "metadata": {
        "id": "gZ8K9NcSefmn"
      },
      "execution_count": null,
      "outputs": []
    },
    {
      "cell_type": "markdown",
      "source": [
        "**verification**"
      ],
      "metadata": {
        "id": "E_EIWHa_seb7"
      }
    },
    {
      "cell_type": "code",
      "source": [
        "\n",
        "# Check if any empty Cleaned_Ingredients remain\n",
        "empty_ingredients = data[data['Cleaned_Ingredients'].isnull() | (data['Cleaned_Ingredients'].str.strip() == \"\")]\n",
        "missing_instructions = data['Instructions'].isnull().sum()\n",
        "missing_title = data['Title'].isnull().sum()\n",
        "\n",
        "print(f\"Number of missing (null) values in Instructions: {missing_instructions}\")\n",
        "print(f\"Number of missing (null) values in Title: {missing_title}\")\n",
        "print(\"Remaining rows with empty Cleaned_Ingredients:\", empty_ingredients.shape[0])"
      ],
      "metadata": {
        "trusted": true,
        "execution": {
          "iopub.status.busy": "2024-12-07T21:23:31.890603Z",
          "iopub.execute_input": "2024-12-07T21:23:31.890892Z",
          "iopub.status.idle": "2024-12-07T21:23:31.911143Z",
          "shell.execute_reply.started": "2024-12-07T21:23:31.890865Z",
          "shell.execute_reply": "2024-12-07T21:23:31.909925Z"
        },
        "id": "FlLDaNKtseb7",
        "outputId": "f1b7d319-daf0-4899-b5d5-7a05bc9ae9e1",
        "colab": {
          "base_uri": "https://localhost:8080/"
        }
      },
      "outputs": [
        {
          "output_type": "stream",
          "name": "stdout",
          "text": [
            "Number of missing (null) values in Instructions: 0\n",
            "Number of missing (null) values in Title: 0\n",
            "Remaining rows with empty Cleaned_Ingredients: 0\n"
          ]
        }
      ],
      "execution_count": null
    },
    {
      "cell_type": "code",
      "source": [
        "# Convert specific columns to strings\n",
        "columns_to_convert = [\"Title\", \"Instructions\", \"Cleaned_Ingredients\"]\n",
        "data[columns_to_convert] = data[columns_to_convert].astype('string')  # Change to 'string' dtype\n",
        "\n",
        "# Confirm conversion\n",
        "print(data.dtypes)"
      ],
      "metadata": {
        "colab": {
          "base_uri": "https://localhost:8080/"
        },
        "id": "-SE4J-pefEW2",
        "outputId": "a17f8cea-356c-471d-e841-2905aedabf4b"
      },
      "execution_count": null,
      "outputs": [
        {
          "output_type": "stream",
          "name": "stdout",
          "text": [
            "Title                  string[python]\n",
            "Instructions           string[python]\n",
            "Cleaned_Ingredients    string[python]\n",
            "dtype: object\n"
          ]
        }
      ]
    },
    {
      "cell_type": "markdown",
      "source": [
        "# **Tokenization**"
      ],
      "metadata": {
        "id": "y1Ympn9Nseb7"
      }
    },
    {
      "cell_type": "markdown",
      "source": [
        "* Tokenized Cleaned_Ingredients by splitting ingredients into individual tokens\n",
        "* Tokenized Instructions into words for sequential processing by the model.\n",
        "> we don’t need to tokenize recipe titles because they are usually metadata and not directly used as input for a Transformer model."
      ],
      "metadata": {
        "id": "7JkqXhZ7seb7"
      }
    },
    {
      "cell_type": "markdown",
      "source": [],
      "metadata": {
        "id": "KPNVXrPF0sHT"
      }
    },
    {
      "source": [
        "import re\n",
        "\n",
        "def split_ingredient_components(ingredient):\n",
        "    ingredient = ingredient.lower().strip()\n",
        "    known_units = ['tsp', 'tablespoon', 'tbsp', 'cup', 'cups', 'lb', 'oz', 'g', 'kg', 'ml', 'l', 'can', 'cans', 'pound', 'pounds', 'pinch', 'dash', 'clove']\n",
        "\n",
        "    quantity = \"\"\n",
        "    unit = \"\"\n",
        "    name = \"\"\n",
        "\n",
        "    # Extract quantity using regex\n",
        "    quantity_match = re.search(r\"(\\d+\\s*[\\/\\d\\.]*)\", ingredient)\n",
        "    if quantity_match:\n",
        "        quantity = quantity_match.group(1).strip()\n",
        "        ingredient = ingredient.replace(quantity, \"\").strip()\n",
        "\n",
        "    # Extract unit by checking against known_units\n",
        "    words = ingredient.split()\n",
        "    for i, word in enumerate(words):\n",
        "        if word in known_units:\n",
        "            unit = word\n",
        "            name = \" \".join(words[i + 1:])\n",
        "            break\n",
        "\n",
        "    # If no unit found, assume the entire string is the ingredient name\n",
        "    if not unit:\n",
        "        name = ingredient\n",
        "\n",
        "    return {\"quantity\": quantity, \"unit\": unit, \"ingredient_name\": name}"
      ],
      "cell_type": "code",
      "metadata": {
        "id": "dC0JgF7Q57s_"
      },
      "execution_count": null,
      "outputs": []
    },
    {
      "source": [
        "data['Structured_Ingredients'] = data['Cleaned_Ingredients'].apply(\n",
        "       lambda ingredients_string: [split_ingredient_components(ing.strip()) for ing in ingredients_string.split(',') if ing.strip()]\n",
        "   )"
      ],
      "cell_type": "code",
      "metadata": {
        "id": "rYT4P6EK6RsB"
      },
      "execution_count": null,
      "outputs": []
    },
    {
      "source": [
        "print(data['Structured_Ingredients'])\n"
      ],
      "cell_type": "code",
      "metadata": {
        "colab": {
          "base_uri": "https://localhost:8080/"
        },
        "id": "MKJqc64w6geX",
        "outputId": "5a9e904a-b6c3-46ef-addd-f30b2c9586db"
      },
      "execution_count": null,
      "outputs": [
        {
          "output_type": "stream",
          "name": "stdout",
          "text": [
            "0        [{'quantity': '1 34', 'unit': 'lb', 'ingredien...\n",
            "1        [{'quantity': '2', 'unit': '', 'ingredient_nam...\n",
            "2        [{'quantity': '1', 'unit': 'cup', 'ingredient_...\n",
            "3        [{'quantity': '1', 'unit': 'pound', 'ingredien...\n",
            "4        [{'quantity': '1', 'unit': '', 'ingredient_nam...\n",
            "                               ...                        \n",
            "13496    [{'quantity': '1', 'unit': 'cup', 'ingredient_...\n",
            "13497    [{'quantity': '1', 'unit': '', 'ingredient_nam...\n",
            "13498    [{'quantity': '1', 'unit': 'cup', 'ingredient_...\n",
            "13499    [{'quantity': '1', 'unit': 'cup', 'ingredient_...\n",
            "13500    [{'quantity': '12', 'unit': 'lb', 'ingredient_...\n",
            "Name: Structured_Ingredients, Length: 13487, dtype: object\n"
          ]
        }
      ]
    },
    {
      "source": [
        "import re\n",
        "\n",
        "# Robust Tokenization Function\n",
        "def tokenize_structured_ingredients(structured_ingredients):\n",
        "    tokenized_data = []\n",
        "\n",
        "    # Verify input is a list\n",
        "    if not isinstance(structured_ingredients, list):\n",
        "        return []  # Return empty list if not a valid list\n",
        "\n",
        "    for ing in structured_ingredients:\n",
        "        if isinstance(ing, dict):\n",
        "             # Extract and tokenize ingredient names\n",
        "\n",
        "            ingredient_name = ing.get(\"ingredient_name\", \"\").strip()\n",
        "\n",
        "\n",
        "            if ingredient_name:\n",
        "                tokens = ingredient_name.split()  # Tokenize by words\n",
        "                tokenized_data.extend(tokens)\n",
        "    return tokenized_data\n",
        "\n",
        "\n",
        "# Apply tokenization to 'Structured_Ingredients'\n",
        "data['Tokenized_Ingredients'] = data['Structured_Ingredients'].apply(tokenize_structured_ingredients)\n",
        "\n",
        "# Inspect the results\n",
        "print(\"Sample Tokenized Ingredients:\")\n",
        "print(data['Tokenized_Ingredients'])\n",
        "\n"
      ],
      "cell_type": "code",
      "metadata": {
        "colab": {
          "base_uri": "https://localhost:8080/"
        },
        "id": "W-fL1gnoH4x-",
        "outputId": "da7e004d-f582-46cb-fcf0-e8571d40d88f"
      },
      "execution_count": null,
      "outputs": [
        {
          "output_type": "stream",
          "name": "stdout",
          "text": [
            "Sample Tokenized Ingredients:\n",
            "0        [whole, chicken, kosher, salt, divided, plus, ...\n",
            "1        [large, egg, whites, new, potatoes, about, inc...\n",
            "2        [evaporated, milk, whole, milk, garlic, powder...\n",
            "3        [round, italian, loaf, tablespoons, olive, oil...\n",
            "4        [teaspoon, dark, brown, sugar, teaspoon, hot, ...\n",
            "                               ...                        \n",
            "13496    [allpurpose, flour, unsweetened, cocoa, powder...\n",
            "13497    [preserved, lemon, butternut, squash, peeled, ...\n",
            "13498    [katsuo, bushi, fresh, from, package, sake, te...\n",
            "13499    [plus, tablespoon, unsalted, butter, baby, spi...\n",
            "13500    [whole, tomatoes, including, juice, large, gar...\n",
            "Name: Tokenized_Ingredients, Length: 13487, dtype: object\n"
          ]
        }
      ]
    },
    {
      "cell_type": "code",
      "source": [
        "\n",
        "# Tokenize 'Instructions' into lists of words\n",
        "data['Tokenized_Instructions'] = data['Instructions'].apply(lambda x: x.split())\n",
        "\n",
        "\n",
        "print(\"\\nSample Tokenized Instructions:\")\n",
        "print(data['Tokenized_Instructions'].head())\n"
      ],
      "metadata": {
        "trusted": true,
        "execution": {
          "iopub.status.busy": "2024-12-07T21:23:31.912384Z",
          "iopub.execute_input": "2024-12-07T21:23:31.912701Z",
          "iopub.status.idle": "2024-12-07T21:23:32.433973Z",
          "shell.execute_reply.started": "2024-12-07T21:23:31.912671Z",
          "shell.execute_reply": "2024-12-07T21:23:32.432882Z"
        },
        "outputId": "3ac1d08e-0361-4c30-cc3b-422be9f8fb1e",
        "colab": {
          "base_uri": "https://localhost:8080/"
        },
        "id": "4vl9gtJHHUOI"
      },
      "outputs": [
        {
          "output_type": "stream",
          "name": "stdout",
          "text": [
            "\n",
            "Sample Tokenized Instructions:\n",
            "0    [pat, chicken, dry, with, paper, towels,, seas...\n",
            "1    [preheat, oven, to, 400f, and, line, a, rimmed...\n",
            "2    [place, a, rack, in, middle, of, oven, preheat...\n",
            "3    [preheat, oven, to, 350f, with, rack, in, midd...\n",
            "4    [stir, together, brown, sugar, and, hot, water...\n",
            "Name: Tokenized_Instructions, dtype: object\n"
          ]
        }
      ],
      "execution_count": null
    },
    {
      "cell_type": "markdown",
      "source": [
        "# **3. Vocabulary Creation**"
      ],
      "metadata": {
        "id": "wuAoahdKseb8"
      }
    },
    {
      "cell_type": "code",
      "source": [
        "pip install sentencepiece"
      ],
      "metadata": {
        "colab": {
          "base_uri": "https://localhost:8080/"
        },
        "id": "hmRIAA1C0BU7",
        "outputId": "d8ad965b-cc14-48b8-9085-0e748dc14595"
      },
      "execution_count": null,
      "outputs": [
        {
          "output_type": "stream",
          "name": "stdout",
          "text": [
            "Requirement already satisfied: sentencepiece in /usr/local/lib/python3.10/dist-packages (0.2.0)\n"
          ]
        }
      ]
    },
    {
      "cell_type": "markdown",
      "source": [
        "\n",
        "- Tokenized the dataset into subword units using **SentencePiece**.\n",
        "- Combined both `Tokenized_Ingredients` and `Tokenized_Instructions` to train the tokenizer.\n",
        "- Output:\n",
        "  - `recipe.model`: Trained subword tokenizer model.\n",
        "  - `recipe.vocab`: Vocabulary file containing subword units.\n",
        "\n"
      ],
      "metadata": {
        "id": "WB-VeGcLseb8"
      }
    },
    {
      "cell_type": "code",
      "source": [
        "import sentencepiece as spm\n",
        "\n",
        "# Prepare a text file with all the tokenized ingredients and instructions\n",
        "with open(\"corpus.txt\", \"w\") as f:\n",
        "    # Write Tokenized Ingredients\n",
        "    for tokens in data['Tokenized_Ingredients']:\n",
        "        f.write(\" \".join(tokens) + \"\\n\")\n",
        "    # Write Tokenized Instructions\n",
        "    for tokens in data['Tokenized_Instructions']:\n",
        "        f.write(\" \".join(tokens) + \"\\n\")\n",
        "\n",
        "# Train SentencePiece model with the new corpus\n",
        "spm.SentencePieceTrainer.train(input=\"corpus.txt\", model_prefix=\"recipe\", vocab_size=12000 , character_coverage=0.9995  )\n",
        "\n",
        "# Load the trained model\n",
        "sp = spm.SentencePieceProcessor(model_file=\"recipe.model\")\n",
        "\n",
        "# Apply subword tokenization to ingredients and instructions\n",
        "data['Ingredient_Ids'] = data['Tokenized_Ingredients'].apply(lambda x: sp.encode(\" \".join(x), out_type=int , add_bos=True, add_eos=True))\n",
        "data['Instruction_Ids'] = data['Tokenized_Instructions'].apply(lambda x: sp.encode(\" \".join(x), out_type=int, add_bos=True, add_eos=True))\n",
        "\n",
        "# Get the vocabulary size\n",
        "vocab_size = sp.get_piece_size()\n",
        "print(f\"New Vocabulary Size: {vocab_size}\")\n",
        "\n",
        "# Print samples of the tokenized IDs for verification\n",
        "print(\"Sample Ingredient IDs:\")\n",
        "print(data['Ingredient_Ids'].head())\n",
        "\n",
        "print(\"\\nSample Instruction IDs:\")\n",
        "print(data['Instruction_Ids'].head())\n"
      ],
      "metadata": {
        "colab": {
          "base_uri": "https://localhost:8080/"
        },
        "id": "9K5sA3rc0Bxc",
        "outputId": "27f228a7-4a8a-4ceb-b4fb-bb42c425cd83"
      },
      "execution_count": null,
      "outputs": [
        {
          "output_type": "stream",
          "name": "stdout",
          "text": [
            "New Vocabulary Size: 12000\n",
            "Sample Ingredient IDs:\n",
            "0    [1, 187, 85, 87, 13, 141, 119, 76, 428, 81, 35...\n",
            "1    [1, 22, 106, 408, 1413, 196, 16, 160, 8, 1126,...\n",
            "2    [1, 999, 147, 187, 147, 53, 145, 95, 145, 709,...\n",
            "3    [1, 357, 579, 736, 24, 71, 18, 141, 439, 579, ...\n",
            "4    [1, 23, 438, 74, 31, 23, 150, 33, 1088, 32, 56...\n",
            "Name: Ingredient_Ids, dtype: object\n",
            "\n",
            "Sample Instruction IDs:\n",
            "0    [1, 483, 85, 128, 9, 169, 436, 3, 79, 118, 20,...\n",
            "1    [1, 140, 47, 5, 505, 63, 4, 411, 7, 27, 275, 4...\n",
            "2    [1, 75, 7, 124, 8, 419, 11, 47, 140, 5, 505, 1...\n",
            "3    [1, 140, 47, 5, 240, 63, 9, 124, 8, 419, 626, ...\n",
            "4    [1, 58, 149, 74, 31, 4, 150, 33, 8, 7, 908, 10...\n",
            "Name: Instruction_Ids, dtype: object\n"
          ]
        }
      ]
    },
    {
      "cell_type": "code",
      "source": [
        "!pip install torch --upgrade\n"
      ],
      "metadata": {
        "colab": {
          "base_uri": "https://localhost:8080/"
        },
        "id": "h59EPhUQ-AsX",
        "outputId": "cac6be17-9d0c-4a4c-eb8c-03c52295088c"
      },
      "execution_count": null,
      "outputs": [
        {
          "output_type": "stream",
          "name": "stdout",
          "text": [
            "Requirement already satisfied: torch in /usr/local/lib/python3.10/dist-packages (2.5.1+cu121)\n",
            "Requirement already satisfied: filelock in /usr/local/lib/python3.10/dist-packages (from torch) (3.16.1)\n",
            "Requirement already satisfied: typing-extensions>=4.8.0 in /usr/local/lib/python3.10/dist-packages (from torch) (4.12.2)\n",
            "Requirement already satisfied: networkx in /usr/local/lib/python3.10/dist-packages (from torch) (3.4.2)\n",
            "Requirement already satisfied: jinja2 in /usr/local/lib/python3.10/dist-packages (from torch) (3.1.4)\n",
            "Requirement already satisfied: fsspec in /usr/local/lib/python3.10/dist-packages (from torch) (2024.10.0)\n",
            "Requirement already satisfied: sympy==1.13.1 in /usr/local/lib/python3.10/dist-packages (from torch) (1.13.1)\n",
            "Requirement already satisfied: mpmath<1.4,>=1.1.0 in /usr/local/lib/python3.10/dist-packages (from sympy==1.13.1->torch) (1.3.0)\n",
            "Requirement already satisfied: MarkupSafe>=2.0 in /usr/local/lib/python3.10/dist-packages (from jinja2->torch) (3.0.2)\n"
          ]
        }
      ]
    },
    {
      "cell_type": "markdown",
      "source": [
        "\n",
        "# **5. Output Readiness Check**"
      ],
      "metadata": {
        "id": "FVZHlyGyseb-"
      }
    },
    {
      "cell_type": "code",
      "source": [
        "# Analyze Ingredient and Instruction Lengths\n",
        "ingredient_lengths = data['Ingredient_Ids'].apply(len)\n",
        "instruction_lengths = data['Instruction_Ids'].apply(len)\n",
        "\n",
        "# Print statistics\n",
        "print(\"Ingredient Lengths Statistics:\")\n",
        "print(\"Max:\", ingredient_lengths.max(), \"Min:\", ingredient_lengths.min(), \"Mean:\", ingredient_lengths.mean())\n",
        "\n",
        "print(\"\\nInstruction Lengths Statistics:\")\n",
        "print(\"Max:\", instruction_lengths.max(), \"Min:\", instruction_lengths.min(), \"Mean:\", instruction_lengths.mean())\n"
      ],
      "metadata": {
        "colab": {
          "base_uri": "https://localhost:8080/"
        },
        "id": "riVwQpriT0dN",
        "outputId": "7da8e67c-f804-4c04-de9b-8bbff46ed28d"
      },
      "execution_count": null,
      "outputs": [
        {
          "output_type": "stream",
          "name": "stdout",
          "text": [
            "Ingredient Lengths Statistics:\n",
            "Max: 352 Min: 3 Mean: 50.89804997404909\n",
            "\n",
            "Instruction Lengths Statistics:\n",
            "Max: 2948 Min: 8 Mean: 201.97820123081485\n"
          ]
        }
      ]
    },
    {
      "cell_type": "code",
      "source": [
        "# Pad/truncate sequences\n",
        "max_ingredient_length = 128\n",
        "max_instruction_length =  1024\n",
        "\n",
        "data['Padded_Ingredient_Ids'] = data['Ingredient_Ids'].apply(\n",
        "    lambda x: x[:max_ingredient_length] + [0] * (max_ingredient_length - len(x))\n",
        ")\n",
        "data['Padded_Instruction_Ids'] = data['Instruction_Ids'].apply(\n",
        "    lambda x: x[:max_instruction_length] + [0] * (max_instruction_length - len(x))\n",
        ")\n",
        "\n",
        "# Verify padded sequences\n",
        "print(\"\\nStep 5: Output Readiness Check Completed\")\n",
        "print(\"Padded Ingredient Lengths:\", len(data['Padded_Ingredient_Ids'][0]))\n",
        "print(\"Padded Instruction Lengths:\", len(data['Padded_Instruction_Ids'][0]))\n",
        "\n",
        "# Step 3: Validate Sequence Length Consistency\n",
        "ingredient_lengths = data['Padded_Ingredient_Ids'].apply(len).unique()\n",
        "instruction_lengths = data['Padded_Instruction_Ids'].apply(len).unique()\n",
        "\n",
        "print(\"\\nUnique Ingredient Sequence Lengths:\", ingredient_lengths)\n",
        "print(\"Unique Instruction Sequence Lengths:\", instruction_lengths)\n",
        "\n",
        "# Step 4: Check for Empty or All-Zero Sequences\n",
        "empty_ingredient_sequences = (data['Padded_Ingredient_Ids'].apply(sum) == 0).sum()\n",
        "empty_instruction_sequences = (data['Padded_Instruction_Ids'].apply(sum) == 0).sum()\n",
        "\n",
        "print(\"\\nNumber of Empty Ingredient Sequences:\", empty_ingredient_sequences)\n",
        "print(\"Number of Empty Instruction Sequences:\", empty_instruction_sequences)\n",
        "\n",
        "# Step 5: Validate Data Types\n",
        "print(\"\\nData Type of Padded Ingredient IDs:\", type(data['Padded_Ingredient_Ids'][0]))\n",
        "print(\"Data Type of Padded Instruction IDs:\", type(data['Padded_Instruction_Ids'][0]))\n",
        "\n",
        "\n"
      ],
      "metadata": {
        "trusted": true,
        "execution": {
          "iopub.status.busy": "2024-12-07T21:23:34.702082Z",
          "iopub.execute_input": "2024-12-07T21:23:34.7024Z",
          "iopub.status.idle": "2024-12-07T21:23:35.076646Z",
          "shell.execute_reply.started": "2024-12-07T21:23:34.70237Z",
          "shell.execute_reply": "2024-12-07T21:23:35.075464Z"
        },
        "id": "m8qHSTyUseb-",
        "outputId": "68033924-6725-455b-fd1c-2e1c43a21b49",
        "colab": {
          "base_uri": "https://localhost:8080/"
        }
      },
      "outputs": [
        {
          "output_type": "stream",
          "name": "stdout",
          "text": [
            "\n",
            "Step 5: Output Readiness Check Completed\n",
            "Padded Ingredient Lengths: 128\n",
            "Padded Instruction Lengths: 1024\n",
            "\n",
            "Unique Ingredient Sequence Lengths: [128]\n",
            "Unique Instruction Sequence Lengths: [1024]\n",
            "\n",
            "Number of Empty Ingredient Sequences: 0\n",
            "Number of Empty Instruction Sequences: 0\n",
            "\n",
            "Data Type of Padded Ingredient IDs: <class 'list'>\n",
            "Data Type of Padded Instruction IDs: <class 'list'>\n"
          ]
        }
      ],
      "execution_count": null
    },
    {
      "cell_type": "markdown",
      "source": [
        "**Why These Specific Lengths Were Chosen:**\n",
        "\n",
        "* Ingredients: Max length is 350, mean is 48.89. Padding to 128 minimizes truncation while limiting excess padding.\n",
        "\n",
        "* Instructions: Max length is 2,946, mean is 199.98. Padding to 1024 balances sequence coverage and memory efficiency."
      ],
      "metadata": {
        "id": "3-AotSQ4XtSF"
      }
    },
    {
      "cell_type": "markdown",
      "source": [
        "# **Transformer Architecture**"
      ],
      "metadata": {
        "id": "oefMQ_4kw16k"
      }
    },
    {
      "cell_type": "markdown",
      "source": [
        "**positional encoding**\n",
        "\n",
        "* Purpose: Enhances sequence embeddings with position-specific information for Transformer models\n",
        "\n",
        "* In short, it makes sure the model knows the difference between \"flour, sugar, eggs\" and \"eggs, sugar, flour\" when generating recipes."
      ],
      "metadata": {
        "id": "nErjWOYxYXLL"
      }
    },
    {
      "source": [
        "# Import necessary libraries\n",
        "import pandas as pd\n",
        "import torch\n",
        "import torch.nn as nn # Import the nn module from PyTorch\n",
        "from transformers import AutoTokenizer\n",
        "from torchvision import transforms, models\n",
        "from PIL import Image\n",
        "import os\n",
        "import numpy as np\n",
        "\n",
        "class PositionalEncoding(nn.Module):\n",
        "    def __init__(self, d_model, max_len=5000):\n",
        "        super(PositionalEncoding, self).__init__()\n",
        "        # Create a zero matrix of shape (max_len, d_model)\n",
        "        self.encoding = torch.zeros(max_len, d_model)\n",
        "        position = torch.arange(0, max_len).unsqueeze(1)  # Shape: (max_len, 1)\n",
        "\n",
        "        # Calculate the division term for sine and cosine scaling\n",
        "        div_term = torch.exp(torch.arange(0, d_model, 2) * -(torch.log(torch.tensor(10000.0)) / d_model))\n",
        "\n",
        "        # Apply sine to even indices and cosine to odd indices\n",
        "        self.encoding[:, 0::2] = torch.sin(position * div_term)  # Apply sine on even dimensions\n",
        "        self.encoding[:, 1::2] = torch.cos(position * div_term)  # Apply cosine on odd dimensions\n",
        "\n",
        "        # Add a batch dimension (1) for broadcasting later\n",
        "        self.encoding = self.encoding.unsqueeze(0)  # Shape: (1, max_len, d_model)\n",
        "\n",
        "    def forward(self, x):\n",
        "        # Input shape validation\n",
        "        if len(x.shape) != 3:\n",
        "            raise ValueError(f\"Expected input of shape (batch_size, seq_len, d_model), got {x.shape}\")\n",
        "\n",
        "        seq_len = x.size(1)  # Get the actual sequence length\n",
        "        # Add positional encoding to the input and send to the device\n",
        "        return x + self.encoding[:, :seq_len, :].to(x.device)\n",
        "\n"
      ],
      "cell_type": "code",
      "metadata": {
        "id": "AFXKQXguxYzE"
      },
      "execution_count": null,
      "outputs": []
    },
    {
      "cell_type": "markdown",
      "source": [
        "This code snippet demonstrates how to use the PositionalEncoding class that was defined earlier."
      ],
      "metadata": {
        "id": "nJ1JDoetY1Di"
      }
    },
    {
      "cell_type": "code",
      "source": [
        "# Example Usage\n",
        "embedding_dim = 128  # Match this to the embedding dimension size\n",
        "max_len = 1024       # Maximum sequence length\n",
        "\n",
        "# Initialize Positional Encoding\n",
        "pos_encoder = PositionalEncoding(d_model=embedding_dim, max_len=max_len)\n",
        "\n",
        "# Example input tensor (batch_size=2, seq_len=1024, d_model=128)\n",
        "x = torch.randn(2, 1024, 128)\n",
        "\n",
        "# Apply positional encoding\n",
        "x_with_pos = pos_encoder(x)\n",
        "print(\"Output Shape after Positional Encoding:\", x_with_pos.shape)\n"
      ],
      "metadata": {
        "colab": {
          "base_uri": "https://localhost:8080/"
        },
        "id": "dNk3d4YAagfY",
        "outputId": "522cb31b-198b-4dea-ab86-4ec634323209"
      },
      "execution_count": null,
      "outputs": [
        {
          "output_type": "stream",
          "name": "stdout",
          "text": [
            "Output Shape after Positional Encoding: torch.Size([2, 1024, 128])\n"
          ]
        }
      ]
    },
    {
      "cell_type": "markdown",
      "source": [
        "**The TransformerEncoder** class encodes word indices into embeddings, adds positional data, processes them through Transformer layers, and produces an encoded representation for the decoder to generate outputs like recipe instructions."
      ],
      "metadata": {
        "id": "Bj-DerA6ZQZV"
      }
    },
    {
      "cell_type": "code",
      "source": [
        "class TransformerEncoder(nn.Module):\n",
        "    def __init__(self, vocab_size, d_model, nhead, num_layers):\n",
        "        super(TransformerEncoder, self).__init__()\n",
        "        self.embedding = nn.Embedding(vocab_size, d_model)\n",
        "        self.positional_encoding = PositionalEncoding(d_model)\n",
        "        encoder_layer = nn.TransformerEncoderLayer(d_model=d_model, nhead=nhead)\n",
        "        self.encoder = nn.TransformerEncoder(encoder_layer, num_layers=num_layers)\n",
        "\n",
        "    def forward(self, src):\n",
        "        embedded = self.embedding(src)  # Shape: (batch_size, seq_len, d_model)\n",
        "        src = self.positional_encoding(embedded)  # Add positional encoding\n",
        "        src = src.permute(1, 0, 2)  # Transformer expects shape (seq_len, batch_size, d_model)\n",
        "        return self.encoder(src)"
      ],
      "metadata": {
        "id": "3hDjXAL3xfnb"
      },
      "execution_count": null,
      "outputs": []
    },
    {
      "cell_type": "markdown",
      "source": [
        "# Explanation of nn.TransformerEncoderLayer and nn.TransformerEncoder\n",
        "\n",
        "\"\"\"\n",
        "### nn.TransformerEncoderLayer (Single Layer)\n",
        "1. **Multi-Head Self-Attention**:\n",
        "   - Computes attention between all tokens in the sequence.\n",
        "   - Helps each token understand relationships with other tokens.\n",
        "\n",
        "2. **Feedforward Network**:\n",
        "   - Processes each token through two linear layers with a ReLU in between.\n",
        "   - Adds depth and transforms token representations.\n",
        "\n",
        "3. **Residual Connections + Layer Normalization**:\n",
        "   - Adds the input back to the output (residual connection).\n",
        "   - Normalizes the result for stable training.\n",
        "\n",
        "**Purpose**: Captures relationships between tokens in the sequence.\n",
        "\n",
        "---\n",
        "\n",
        "### nn.TransformerEncoder (Stack of Layers)\n",
        "1. **Structure**:\n",
        "   - Stacks `num_layers` of `nn.TransformerEncoderLayer`.\n",
        "   - Each layer builds on the output of the previous layer.\n",
        "\n",
        "2. **Operation**:\n",
        "   - Each layer refines token embeddings by adding more context.\n",
        "   - Final output contains deeply contextualized token representations.\n",
        "\n",
        "**Purpose**: Produces a comprehensive understanding of the input sequence.\n",
        "\n",
        "---\n",
        "\n",
        "### Data Flow\n",
        "- **Input Shape**: `(seq_len, batch_size, d_model)`\n",
        "- **Output Shape**: `(seq_len, batch_size, d_model)`\n",
        "- The input passes through:\n",
        "  - Embedding → Add Positional Encoding Encoder → Permute Dimensions →  Layer 1 → Encoder Layer 2 → ... → Encoder Layer `num_layers`.\n",
        "---\n",
        "\n",
        "**Summary**:\n",
        "- `nn.TransformerEncoderLayer`: Processes a single layer of attention and feedforward.\n",
        "- `nn.TransformerEncoder`: Stacks multiple layers to build progressively refined representations.\n",
        "\n",
        "\"\"\"\n"
      ],
      "metadata": {
        "id": "VHTLQXdguUNp"
      }
    },
    {
      "cell_type": "markdown",
      "source": [
        "**The TransformerDecoder** generates recipe instructions by embedding target tokens, applying positional encoding, decoding with multi-head attention and feedforward layers, and projecting to the vocabulary logits."
      ],
      "metadata": {
        "id": "rJQ0s0VQZid-"
      }
    },
    {
      "cell_type": "code",
      "source": [
        "class TransformerDecoder(nn.Module):\n",
        "    def __init__(self, vocab_size, d_model, nhead, num_layers):\n",
        "        super(TransformerDecoder, self).__init__()\n",
        "        self.embedding = nn.Embedding(vocab_size, d_model)\n",
        "        self.positional_encoding = PositionalEncoding(d_model)\n",
        "        decoder_layer = nn.TransformerDecoderLayer(d_model=d_model, nhead=nhead)\n",
        "        self.decoder = nn.TransformerDecoder(decoder_layer, num_layers=num_layers)\n",
        "        self.fc_out = nn.Linear(d_model, vocab_size)  # Map decoder output to vocabulary size\n",
        "\n",
        "    def forward(self, tgt, memory):\n",
        "        embedded = self.embedding(tgt)\n",
        "        tgt = self.positional_encoding(embedded)\n",
        "        tgt = tgt.permute(1, 0, 2)  # Shape: (seq_len, batch_size, d_model)\n",
        "        output = self.decoder(tgt, memory)  # Decoder processing\n",
        "        output = output.permute(1, 0, 2)  # Back to (batch_size, seq_len, d_model)\n",
        "        return self.fc_out(output)  # Shape: (batch_size, seq_len, vocab_size)\n"
      ],
      "metadata": {
        "id": "A2rK8gO9xhPu"
      },
      "execution_count": null,
      "outputs": []
    },
    {
      "cell_type": "markdown",
      "source": [
        "# Explanation of TransformerDecoder\n",
        "\n",
        "\"\"\"\n",
        "### TransformerDecoder Class\n",
        "1. **Embedding Layer**:\n",
        "   - Converts token indices in `tgt` into dense vectors.\n",
        "\n",
        "2. **Positional Encoding**:\n",
        "   - Adds positional information to token embeddings.\n",
        "\n",
        "3. **TransformerDecoder Layers**:\n",
        "   - Each layer processes the target sequence (`tgt`) using:\n",
        "     - **Self-Attention**: Understand relationships within the target sequence.\n",
        "     - **Cross-Attention**: Leverages `memory` (encoder output) to integrate context from the source sequence.\n",
        "     - **Feedforward Network**: Refines token representations.\n",
        "\n",
        "4. **Linear Output Layer**:\n",
        "   - Maps decoder output to vocabulary size for predictions.\n",
        "\n",
        "---\n",
        "\n",
        "### Forward Method Steps:\n",
        "1. **Input Processing**:\n",
        "   - `tgt` (target sequence) is embedded and positional encodings are added.\n",
        "   - Shape: `(batch_size, seq_len)` → `(batch_size, seq_len, d_model)`.\n",
        "\n",
        "2. **Permute Dimensions**:\n",
        "   - Transformer requires: `(seq_len, batch_size, d_model)`.\n",
        "\n",
        "3. **Decoder Processing**:\n",
        "   - `self.decoder(tgt, memory)` processes `tgt` using `memory` (encoder output).\n",
        "\n",
        "4. **Final Transformation**:\n",
        "   - Permute back: `(seq_len, batch_size, d_model)` → `(batch_size, seq_len, d_model)`.\n",
        "   - `self.fc_out(output)`: Maps each token to a probability distribution over the vocabulary.\n",
        "\n",
        "**Output Shape**:\n",
        "- Final output shape: `(batch_size, seq_len, vocab_size)` for predictions.\n",
        "\"\"\"\n"
      ],
      "metadata": {
        "id": "qpQHQhNswHpW"
      }
    },
    {
      "cell_type": "code",
      "source": [],
      "metadata": {
        "id": "uws8jAT3uT8k"
      },
      "execution_count": null,
      "outputs": []
    },
    {
      "cell_type": "markdown",
      "source": [
        "The Seq2SeqTransformer combines an encoder and decoder for recipe generation"
      ],
      "metadata": {
        "id": "L1sGbpT3Zq7n"
      }
    },
    {
      "cell_type": "code",
      "source": [
        "class Seq2SeqTransformer(nn.Module):\n",
        "    def __init__(self, vocab_size, d_model=512, nhead=8, num_layers=6):\n",
        "        super(Seq2SeqTransformer, self).__init__()\n",
        "        self.encoder = TransformerEncoder(vocab_size, d_model, nhead, num_layers)\n",
        "        self.decoder = TransformerDecoder(vocab_size, d_model, nhead, num_layers)\n",
        "\n",
        "    def forward(self, src, tgt):\n",
        "        memory = self.encoder(src)  # Encode the source sequence\n",
        "        output = self.decoder(tgt, memory)  # Decode the target sequence\n",
        "        return output"
      ],
      "metadata": {
        "id": "NM6Oi5pfxnPt"
      },
      "execution_count": null,
      "outputs": []
    },
    {
      "cell_type": "code",
      "source": [
        "import torch\n",
        "print(torch.__version__)"
      ],
      "metadata": {
        "colab": {
          "base_uri": "https://localhost:8080/"
        },
        "id": "mAfCc90O-LmN",
        "outputId": "77593ce7-c712-46ff-e3c2-d94f1fb6ddfe"
      },
      "execution_count": null,
      "outputs": [
        {
          "output_type": "stream",
          "name": "stdout",
          "text": [
            "2.5.1+cu121\n"
          ]
        }
      ]
    },
    {
      "cell_type": "markdown",
      "source": [
        "initializes and tests the recipe generation model (Seq2SeqTransformer)."
      ],
      "metadata": {
        "id": "0ln1n-22aG3r"
      }
    },
    {
      "source": [
        "if __name__ == \"__main__\":\n",
        "    vocab_size = 12000\n",
        "    d_model = 128\n",
        "    nhead = 2\n",
        "    num_layers = 4\n",
        "    seq_len = 64\n",
        "    batch_size = 32\n",
        "\n",
        "    model = Seq2SeqTransformer(vocab_size, d_model=d_model, nhead=nhead, num_layers=num_layers)\n",
        "\n",
        "    device = torch.device('cuda' if torch.cuda.is_available() else 'cpu')\n",
        "    model = model.to(device)\n",
        "\n",
        "    src = torch.randint(0, vocab_size, (batch_size, seq_len), dtype=torch.long).to(device)\n",
        "    tgt = torch.randint(0, vocab_size, (batch_size, seq_len), dtype=torch.long).to(device)\n",
        "\n",
        "    from torch.amp.autocast_mode import autocast\n",
        "    with autocast(device_type='cuda'):\n",
        "        try:\n",
        "            output = model(src, tgt)\n",
        "            print(\"Output shape:\", output.shape)\n",
        "        except IndexError as e:\n",
        "            print(f\"Error during forward pass: {e}\")\n"
      ],
      "cell_type": "code",
      "metadata": {
        "colab": {
          "base_uri": "https://localhost:8080/"
        },
        "id": "i0ecp0O-zUcK",
        "outputId": "9314a890-9c66-4b19-ac37-f118239a3918"
      },
      "execution_count": null,
      "outputs": [
        {
          "output_type": "stream",
          "name": "stderr",
          "text": [
            "/usr/local/lib/python3.10/dist-packages/torch/nn/modules/transformer.py:379: UserWarning: enable_nested_tensor is True, but self.use_nested_tensor is False because encoder_layer.self_attn.batch_first was not True(use batch_first for better inference performance)\n",
            "  warnings.warn(\n"
          ]
        },
        {
          "output_type": "stream",
          "name": "stdout",
          "text": [
            "Output shape: torch.Size([32, 64, 12000])\n"
          ]
        }
      ]
    },
    {
      "cell_type": "markdown",
      "source": [
        "\n",
        "**2. Training the Transformer**"
      ],
      "metadata": {
        "id": "mVR7TRAPH0da"
      }
    },
    {
      "cell_type": "markdown",
      "source": [
        "Step 2.1: Set Up the Loss Function and Optimizer"
      ],
      "metadata": {
        "id": "SoP1yYI1IGes"
      }
    },
    {
      "cell_type": "markdown",
      "source": [
        "* criterion: Defines how the model's predictions are compared to the actual recipe instructions (using Cross-Entropy Loss and ignoring padding).\n",
        "* optimizer: Determines how the model's parameters are adjusted during training to improve its performance (using the AdamW optimizer with a learning rate of 0.001)."
      ],
      "metadata": {
        "id": "kJbrQpj6a2cv"
      }
    },
    {
      "cell_type": "code",
      "source": [
        "criterion = nn.CrossEntropyLoss(ignore_index=0)  # Assuming padding token is ID 0\n",
        "from torch.optim import AdamW\n",
        "optimizer = AdamW(model.parameters(), lr=0.001)\n"
      ],
      "metadata": {
        "id": "iTy3YRNOHwGe"
      },
      "execution_count": null,
      "outputs": []
    },
    {
      "cell_type": "markdown",
      "source": [
        "This script trains and validates a Seq2Seq Transformer for generating recipe instructions:\n",
        "\n",
        "* **Data Preparation:**  Splits data into training/validation sets, converts sequences to tensors, and creates DataLoaders.\n",
        "\n",
        "* **Training:** Performs batched training with backpropagation, tracking training loss.\n",
        "\n",
        "* **Validation**: Evaluates on validation data without gradients, tracking validation loss.\n",
        "\n",
        "* **Visualization**: Plots training and validation loss over epochs to monitor performance."
      ],
      "metadata": {
        "id": "JUKrVBhUbLYG"
      }
    },
    {
      "source": [
        "from sklearn.model_selection import train_test_split\n",
        "from torch.utils.data import DataLoader, TensorDataset\n",
        "import matplotlib.pyplot as plt\n",
        "\n",
        "train_losses = []\n",
        "val_losses = []\n",
        "\n",
        "\n",
        "# Split the dataset into training and validation sets\n",
        "train_data, val_data = train_test_split(data, test_size=0.2, random_state=42)\n",
        "\n",
        "# Convert training data to tensors\n",
        "train_src_tensor = torch.tensor(train_data['Padded_Ingredient_Ids'].tolist(), dtype=torch.long)\n",
        "train_tgt_tensor = torch.tensor(train_data['Padded_Instruction_Ids'].tolist(), dtype=torch.long)\n",
        "\n",
        "# Convert validation data to tensors\n",
        "val_src_tensor = torch.tensor(val_data['Padded_Ingredient_Ids'].tolist(), dtype=torch.long)\n",
        "val_tgt_tensor = torch.tensor(val_data['Padded_Instruction_Ids'].tolist(), dtype=torch.long)\n",
        "\n",
        "# Create TensorDatasets\n",
        "train_dataset = TensorDataset(train_src_tensor, train_tgt_tensor)\n",
        "val_dataset = TensorDataset(val_src_tensor, val_tgt_tensor)\n",
        "\n",
        "# Create DataLoaders\n",
        "train_dataloader = DataLoader(train_dataset, batch_size=32, shuffle=True)\n",
        "val_dataloader = DataLoader(val_dataset, batch_size=32, shuffle=False)\n",
        "\n",
        "# Training and Validation Loops\n",
        "num_epochs = 10  # Define the number of epochs\n",
        "\n",
        "for epoch in range(num_epochs):\n",
        "    # Training Loop\n",
        "    model.train()\n",
        "    total_train_loss = 0\n",
        "\n",
        "    for src_batch, tgt_batch in train_dataloader:\n",
        "        src_batch = src_batch.to(device)\n",
        "        tgt_batch = tgt_batch.to(device)\n",
        "\n",
        "        tgt_input = tgt_batch[:, :-1]  # Exclude last token for decoder input\n",
        "        tgt_output = tgt_batch[:, 1:]  # Exclude first token for ground truth\n",
        "\n",
        "        optimizer.zero_grad()\n",
        "        output = model(src_batch, tgt_input)\n",
        "         # Reshape output to (batch_size * seq_len, vocab_size)\n",
        "        output = output.reshape(-1, output.shape[-1])\n",
        "        # Reshape target output to (batch_size * seq_len)\n",
        "        tgt_output = tgt_output.reshape(-1)\n",
        "        loss = criterion(output, tgt_output)  # Compute loss\n",
        "        loss.backward()\n",
        "        optimizer.step()\n",
        "\n",
        "        total_train_loss += loss.item()\n",
        "    # Store training loss - Corrected indentation\n",
        "    train_losses.append(total_train_loss / len(train_dataloader))\n",
        "\n",
        "\n",
        "    # Validation Loop\n",
        "    model.eval()\n",
        "    total_val_loss = 0\n",
        "\n",
        "    with torch.no_grad():\n",
        "        for src_batch, tgt_batch in val_dataloader:\n",
        "            src_batch = src_batch.to(device)\n",
        "            tgt_batch = tgt_batch.to(device)\n",
        "\n",
        "            tgt_input = tgt_batch[:, :-1]  # Exclude last token for decoder input\n",
        "            tgt_output = tgt_batch[:, 1:]  # Exclude first token for ground truth\n",
        "\n",
        "            output = model(src_batch, tgt_input)\n",
        "            loss = criterion(output.reshape(-1, vocab_size), tgt_output.reshape(-1))  # Compute loss\n",
        "            total_val_loss += loss.item()\n",
        "    # Store validation loss - Corrected indentation\n",
        "    val_losses.append(total_val_loss / len(val_dataloader))\n",
        "\n",
        "    # Print Losses for the Epoch\n",
        "    print(f\"Epoch {epoch+1}/{num_epochs}, Training Loss: {total_train_loss / len(train_dataloader):.4f}, Validation Loss: {total_val_loss / len(val_dataloader):.4f}\")\n",
        "plt.figure(figsize=(10, 6))  # Adjust figure size if needed\n",
        "plt.plot(train_losses, label='Training Loss')\n",
        "plt.plot(val_losses, label='Validation Loss')\n",
        "plt.xlabel('Epoch')\n",
        "plt.ylabel('Loss')\n",
        "plt.title('Training and Validation Loss')\n",
        "plt.legend()\n",
        "plt.grid(True)\n",
        "plt.show()\n"
      ],
      "cell_type": "code",
      "metadata": {
        "colab": {
          "base_uri": "https://localhost:8080/",
          "height": 738
        },
        "outputId": "203b1310-aeb3-4b51-999e-610e025a582e",
        "id": "9gfv-QZxzQlX"
      },
      "execution_count": null,
      "outputs": [
        {
          "output_type": "stream",
          "name": "stdout",
          "text": [
            "Epoch 1/10, Training Loss: 5.4525, Validation Loss: 4.1851\n",
            "Epoch 2/10, Training Loss: 3.5575, Validation Loss: 2.6334\n",
            "Epoch 3/10, Training Loss: 2.2027, Validation Loss: 1.3389\n",
            "Epoch 4/10, Training Loss: 0.8390, Validation Loss: 0.4030\n",
            "Epoch 5/10, Training Loss: 0.3041, Validation Loss: 0.2519\n",
            "Epoch 6/10, Training Loss: 0.1653, Validation Loss: 0.2084\n",
            "Epoch 7/10, Training Loss: 0.1036, Validation Loss: 0.1754\n",
            "Epoch 8/10, Training Loss: 0.0695, Validation Loss: 0.1499\n",
            "Epoch 9/10, Training Loss: 0.0494, Validation Loss: 0.1510\n",
            "Epoch 10/10, Training Loss: 0.0375, Validation Loss: 0.1617\n"
          ]
        },
        {
          "output_type": "display_data",
          "data": {
            "text/plain": [
              "<Figure size 1000x600 with 1 Axes>"
            ],
            "image/png": "[encoded data removed]"
          },
          "metadata": {}
        }
      ]
    },
    {
      "cell_type": "markdown",
      "source": [
        "The plot shows Training Loss (blue) and Validation Loss (orange) over epochs. Key observations:\n",
        "\n",
        "* Convergence: Both losses decrease rapidly in early epochs and stabilize after epoch 5.\n",
        "* Overfitting Risk: Training and validation losses remain close, suggesting minimal overfitting.\n",
        "* Performance: Low final loss indicates good learning of the task.\n",
        "\n",
        "This demonstrates the model's effectiveness and proper generalization during training."
      ],
      "metadata": {
        "id": "kDHF9lnr3PvZ"
      }
    },
    {
      "cell_type": "code",
      "source": [
        "torch.save(model.state_dict(), \"transformer_model.pth\")\n",
        "print(\"Model saved successfully!\")\n",
        "\n"
      ],
      "metadata": {
        "id": "MbhQkO_qfz_t",
        "colab": {
          "base_uri": "https://localhost:8080/"
        },
        "outputId": "9d5050d8-da2d-487c-873e-cb66ca29f51e"
      },
      "execution_count": null,
      "outputs": [
        {
          "output_type": "stream",
          "name": "stdout",
          "text": [
            "Model saved successfully!\n"
          ]
        }
      ]
    },
    {
      "cell_type": "code",
      "source": [
        "state_dict = torch.load(\"transformer_model.pth\", map_location=torch.device('cpu'))\n",
        "\n",
        "# Check the shape of the embedding layer weights\n",
        "print(\"Encoder Embedding Shape:\", state_dict['encoder.embedding.weight'].shape)\n",
        "print(\"Decoder Embedding Shape:\", state_dict['decoder.embedding.weight'].shape)\n"
      ],
      "metadata": {
        "colab": {
          "base_uri": "https://localhost:8080/"
        },
        "id": "m6dfo3ysAhA5",
        "outputId": "6c0694ae-788e-4218-f5b2-9bb2418a637f"
      },
      "execution_count": null,
      "outputs": [
        {
          "output_type": "stream",
          "name": "stdout",
          "text": [
            "Encoder Embedding Shape: torch.Size([12000, 128])\n",
            "Decoder Embedding Shape: torch.Size([12000, 128])\n"
          ]
        },
        {
          "output_type": "stream",
          "name": "stderr",
          "text": [
            "<ipython-input-29-7e639023db52>:1: FutureWarning: You are using `torch.load` with `weights_only=False` (the current default value), which uses the default pickle module implicitly. It is possible to construct malicious pickle data which will execute arbitrary code during unpickling (See https://github.com/pytorch/pytorch/blob/main/SECURITY.md#untrusted-models for more details). In a future release, the default value for `weights_only` will be flipped to `True`. This limits the functions that could be executed during unpickling. Arbitrary objects will no longer be allowed to be loaded via this mode unless they are explicitly allowlisted by the user via `torch.serialization.add_safe_globals`. We recommend you start setting `weights_only=True` for any use case where you don't have full control of the loaded file. Please open an issue on GitHub for any issues related to this experimental feature.\n",
            "  state_dict = torch.load(\"transformer_model.pth\", map_location=torch.device('cpu'))\n"
          ]
        }
      ]
    },
    {
      "cell_type": "markdown",
      "source": [
        "# **evaluation**\n",
        "using BLEU and ROUGE metrics"
      ],
      "metadata": {
        "id": "h7oFdgrZcUUi"
      }
    },
    {
      "cell_type": "code",
      "source": [
        "!pip install nltk rouge-score"
      ],
      "metadata": {
        "colab": {
          "base_uri": "https://localhost:8080/"
        },
        "id": "7k8AOEMbAsiD",
        "outputId": "a81ef4ff-2e46-4239-e1c8-f35f916cb23d"
      },
      "execution_count": null,
      "outputs": [
        {
          "output_type": "stream",
          "name": "stdout",
          "text": [
            "Requirement already satisfied: nltk in /usr/local/lib/python3.10/dist-packages (3.9.1)\n",
            "Collecting rouge-score\n",
            "  Downloading rouge_score-0.1.2.tar.gz (17 kB)\n",
            "  Preparing metadata (setup.py) ... \u001b[?25l\u001b[?25hdone\n",
            "Requirement already satisfied: click in /usr/local/lib/python3.10/dist-packages (from nltk) (8.1.7)\n",
            "Requirement already satisfied: joblib in /usr/local/lib/python3.10/dist-packages (from nltk) (1.4.2)\n",
            "Requirement already satisfied: regex>=2021.8.3 in /usr/local/lib/python3.10/dist-packages (from nltk) (2024.11.6)\n",
            "Requirement already satisfied: tqdm in /usr/local/lib/python3.10/dist-packages (from nltk) (4.67.1)\n",
            "Requirement already satisfied: absl-py in /usr/local/lib/python3.10/dist-packages (from rouge-score) (1.4.0)\n",
            "Requirement already satisfied: numpy in /usr/local/lib/python3.10/dist-packages (from rouge-score) (1.26.4)\n",
            "Requirement already satisfied: six>=1.14.0 in /usr/local/lib/python3.10/dist-packages (from rouge-score) (1.17.0)\n",
            "Building wheels for collected packages: rouge-score\n",
            "  Building wheel for rouge-score (setup.py) ... \u001b[?25l\u001b[?25hdone\n",
            "  Created wheel for rouge-score: filename=rouge_score-0.1.2-py3-none-any.whl size=24935 sha256=3b2a045eaf29b23feb765678d09447ae17a4427e3dc7d642ff82cff3db05ae85\n",
            "  Stored in directory: /root/.cache/pip/wheels/5f/dd/89/461065a73be61a532ff8599a28e9beef17985c9e9c31e541b4\n",
            "Successfully built rouge-score\n",
            "Installing collected packages: rouge-score\n",
            "Successfully installed rouge-score-0.1.2\n"
          ]
        }
      ]
    },
    {
      "cell_type": "markdown",
      "source": [
        "**BLEU:** Measures n-gram overlap between generated and reference recipes.\n",
        "\n",
        "**ROUGE:** Measures precision, recall, and F1-score for n-grams (ROUGE-1, ROUGE-2, ROUGE-L).\n",
        "\n",
        "* Recipe Generation:\n",
        "\n",
        "Given input ingredients, the model generates a recipe iteratively using its encoder-decoder structure.\n",
        "\n",
        "**Evaluation:**\n",
        "\n",
        "* BLEU: Measures n-gram overlap between generated and reference recipes.\n",
        "* ROUGE: Measures precision, recall, and F1-score for n-grams (ROUGE-1, ROUGE-2, ROUGE-L).\n"
      ],
      "metadata": {
        "id": "M-VT590sclRY"
      }
    },
    {
      "cell_type": "code",
      "source": [
        "import torch\n",
        "from sentencepiece import SentencePieceProcessor\n",
        "from nltk.translate.bleu_score import sentence_bleu, SmoothingFunction\n",
        "from rouge_score import rouge_scorer\n",
        "\n",
        "# Load the model\n",
        "device = torch.device(\"cuda\" if torch.cuda.is_available() else \"cpu\")\n",
        "model = Seq2SeqTransformer(vocab_size=12000, d_model=128, nhead=4, num_layers=4)\n",
        "model.load_state_dict(torch.load(\"transformer_model.pth\", map_location=device))\n",
        "model.to(device)\n",
        "model.eval()\n",
        "\n",
        "# Load the tokenizer\n",
        "tokenizer = SentencePieceProcessor()\n",
        "tokenizer.load(\"recipe.model\")\n",
        "\n",
        "# Metric Functions\n",
        "def compute_bleu(reference, hypothesis):\n",
        "    smoothie = SmoothingFunction().method1\n",
        "    return sentence_bleu([reference.split()], hypothesis.split(), smoothing_function=smoothie)\n",
        "\n",
        "def compute_rouge(reference, hypothesis):\n",
        "    scorer = rouge_scorer.RougeScorer(['rouge1', 'rouge2', 'rougeL'], use_stemmer=True)\n",
        "    return scorer.score(reference, hypothesis)\n",
        "\n",
        "# Recipe Generation Function\n",
        "def generate_recipe(model, src, tokenizer, max_len=100):\n",
        "    generated_tokens = torch.tensor([[tokenizer.bos_id()]], device=device)\n",
        "    src = src.to(device)\n",
        "\n",
        "    with torch.no_grad():\n",
        "        for _ in range(max_len):\n",
        "            memory = model.encoder(src)\n",
        "            output = model.decoder(generated_tokens, memory)\n",
        "            logits = output[:, -1, :]\n",
        "            next_token = torch.argmax(logits, dim=-1).unsqueeze(1)\n",
        "            generated_tokens = torch.cat([generated_tokens, next_token], dim=1)\n",
        "            if next_token.item() == tokenizer.eos_id():\n",
        "                break\n",
        "\n",
        "    return tokenizer.decode(generated_tokens.squeeze(0).tolist())\n",
        "\n",
        "\n",
        "# Test Data (Ingredients and References)\n",
        "test_data = [\n",
        "    \"chicken, garlic, onion\",\n",
        "    \"tomato, basil, olive oil\",\n",
        "    \"flour, sugar, butter, eggs\"\n",
        "]\n",
        "\n",
        "reference_recipes = [\n",
        "    \"Cook chicken with garlic and onion until golden.\",\n",
        "    \"Make a fresh tomato basil sauce with olive oil.\",\n",
        "    \"Mix flour, sugar, butter, and eggs to bake a cake.\"\n",
        "]\n",
        "\n",
        "# Test the Model\n",
        "print(\"Testing the Model...\")\n",
        "bleu_scores = []\n",
        "rouge_scores = []\n",
        "\n",
        "for idx, ingredients in enumerate(test_data):\n",
        "    print(f\"\\nTest Case {idx + 1}: Ingredients: {ingredients}\")\n",
        "    encoded_input = tokenizer.encode(ingredients, out_type=int)\n",
        "    src_tensor = torch.tensor([encoded_input], dtype=torch.long)\n",
        "\n",
        "    # Generate recipe\n",
        "    generated_recipe = generate_recipe(model, src_tensor, tokenizer)\n",
        "    print(f\"Generated Recipe: {generated_recipe}\")\n",
        "    print(f\"Reference Recipe: {reference_recipes[idx]}\")\n",
        "\n",
        "    # Compute BLEU and ROUGE scores\n",
        "    bleu = compute_bleu(reference_recipes[idx], generated_recipe)\n",
        "    rouge = compute_rouge(reference_recipes[idx], generated_recipe)\n",
        "\n",
        "    print(f\"BLEU Score: {bleu:.4f}\")\n",
        "    print(f\"ROUGE Scores: {rouge}\")\n",
        "\n",
        "    bleu_scores.append(bleu)\n",
        "    rouge_scores.append(rouge)\n",
        "\n",
        "# Average BLEU and ROUGE Scores\n",
        "avg_bleu = sum(bleu_scores) / len(bleu_scores)\n",
        "avg_rouge = {key: sum(r[key].fmeasure for r in rouge_scores) / len(rouge_scores) for key in rouge_scores[0].keys()}\n",
        "\n",
        "print(\"\\n--- Final Evaluation ---\")\n",
        "print(f\"Average BLEU Score: {avg_bleu:.4f}\")\n",
        "print(f\"Average ROUGE Scores: {avg_rouge}\")\n"
      ],
      "metadata": {
        "colab": {
          "base_uri": "https://localhost:8080/"
        },
        "id": "VEYTW0c8_Azi",
        "outputId": "bf6ad840-10cf-4cef-cb94-f940ea39f7c0"
      },
      "execution_count": null,
      "outputs": [
        {
          "output_type": "stream",
          "name": "stderr",
          "text": [
            "<ipython-input-31-7a48e47f78f4>:9: FutureWarning: You are using `torch.load` with `weights_only=False` (the current default value), which uses the default pickle module implicitly. It is possible to construct malicious pickle data which will execute arbitrary code during unpickling (See https://github.com/pytorch/pytorch/blob/main/SECURITY.md#untrusted-models for more details). In a future release, the default value for `weights_only` will be flipped to `True`. This limits the functions that could be executed during unpickling. Arbitrary objects will no longer be allowed to be loaded via this mode unless they are explicitly allowlisted by the user via `torch.serialization.add_safe_globals`. We recommend you start setting `weights_only=True` for any use case where you don't have full control of the loaded file. Please open an issue on GitHub for any issues related to this experimental feature.\n",
            "  model.load_state_dict(torch.load(\"transformer_model.pth\", map_location=device))\n"
          ]
        },
        {
          "output_type": "stream",
          "name": "stdout",
          "text": [
            "Testing the Model...\n",
            "\n",
            "Test Case 1: Ingredients: chicken, garlic, onion\n",
            "Generated Recipe: liqueur liqueur liqueur liqueur liqueur liqueur liqueur liqueur liqueur liqueur liqueur liqueur liqueur liqueur liqueur liqueur liqueur liqueur liqueur liqueur liqueur liqueur liqueur liqueur liqueur liqueur liqueur liqueur liqueur liqueur liqueur liqueur liqueur liqueur liqueur liqueur liqueur liqueur liqueur liqueur liqueur liqueur liqueur liqueur liqueur liqueur liqueur liqueur liqueur liqueur liqueur liqueur liqueur liqueur liqueur liqueur liqueur liqueur liqueur liqueur liqueur liqueur liqueur liqueur liqueur liqueur liqueur liqueur liqueur liqueur liqueur liqueur liqueur liqueur liqueur liqueur liqueur liqueur liqueur liqueur liqueur liqueur liqueur liqueur liqueur liqueur liqueur liqueur liqueur liqueur liqueur liqueur liqueur liqueur liqueur liqueur liqueur liqueur liqueur liqueur\n",
            "Reference Recipe: Cook chicken with garlic and onion until golden.\n",
            "BLEU Score: 0.0000\n",
            "ROUGE Scores: {'rouge1': Score(precision=0.0, recall=0.0, fmeasure=0.0), 'rouge2': Score(precision=0.0, recall=0.0, fmeasure=0.0), 'rougeL': Score(precision=0.0, recall=0.0, fmeasure=0.0)}\n",
            "\n",
            "Test Case 2: Ingredients: tomato, basil, olive oil\n",
            "Generated Recipe: liqueur liqueur liqueur liqueur liqueur liqueur liqueur liqueur liqueur liqueur liqueur liqueur liqueur liqueur liqueur liqueur liqueur liqueur liqueur liqueur liqueur liqueur liqueur liqueur liqueur liqueur liqueur liqueur liqueur liqueur liqueur liqueur liqueur liqueur liqueur liqueur liqueur liqueur liqueur liqueur liqueur liqueur liqueur liqueur liqueur liqueur liqueur liqueur liqueur liqueur liqueur liqueur liqueur liqueur liqueur liqueur liqueur liqueur liqueur liqueur liqueur liqueur liqueur liqueur liqueur liqueur liqueur liqueur liqueur liqueur liqueur liqueur liqueur liqueur liqueur liqueur liqueur liqueur liqueur liqueur liqueur liqueur liqueur liqueur liqueur liqueur liqueur liqueur liqueur liqueur liqueur liqueur liqueur liqueur liqueur liqueur liqueur liqueur liqueur liqueur\n",
            "Reference Recipe: Make a fresh tomato basil sauce with olive oil.\n",
            "BLEU Score: 0.0000\n",
            "ROUGE Scores: {'rouge1': Score(precision=0.0, recall=0.0, fmeasure=0.0), 'rouge2': Score(precision=0.0, recall=0.0, fmeasure=0.0), 'rougeL': Score(precision=0.0, recall=0.0, fmeasure=0.0)}\n",
            "\n",
            "Test Case 3: Ingredients: flour, sugar, butter, eggs\n",
            "Generated Recipe: liqueur liqueur liqueur liqueur liqueur liqueur liqueur liqueur liqueur liqueur liqueur liqueur liqueur liqueur liqueur liqueur liqueur liqueur liqueur liqueur liqueur liqueur liqueur liqueur liqueur liqueur liqueur liqueur liqueur liqueur liqueur liqueur liqueur liqueur liqueur liqueur liqueur liqueur liqueur liqueur liqueur liqueur liqueur liqueur liqueur liqueur liqueur liqueur liqueur liqueur liqueur liqueur liqueur liqueur liqueur liqueur liqueur liqueur liqueur liqueur liqueur liqueur liqueur liqueur liqueur liqueur liqueur liqueur liqueur liqueur liqueur liqueur liqueur liqueur liqueur liqueur liqueur liqueur liqueur liqueur liqueur liqueur liqueur liqueur liqueur liqueur liqueur liqueur liqueur liqueur liqueur liqueur liqueur liqueur liqueur liqueur liqueur liqueur liqueur liqueur\n",
            "Reference Recipe: Mix flour, sugar, butter, and eggs to bake a cake.\n",
            "BLEU Score: 0.0000\n",
            "ROUGE Scores: {'rouge1': Score(precision=0.0, recall=0.0, fmeasure=0.0), 'rouge2': Score(precision=0.0, recall=0.0, fmeasure=0.0), 'rougeL': Score(precision=0.0, recall=0.0, fmeasure=0.0)}\n",
            "\n",
            "--- Final Evaluation ---\n",
            "Average BLEU Score: 0.0000\n",
            "Average ROUGE Scores: {'rouge1': 0.0, 'rouge2': 0.0, 'rougeL': 0.0}\n"
          ]
        }
      ]
    },
    {
      "cell_type": "markdown",
      "source": [
        "**Observations:**\n",
        "\n",
        "* Generated Output: Repetition of the same token (\"butterfly\") across all test cases.\n",
        "* BLEU & ROUGE Scores: All scores are 0, indicating no similarity between generated and reference recipes.\n",
        "*  Evaluation: Average scores remain at zero, confirming the model’s failure to learn meaningful patterns.\n"
      ],
      "metadata": {
        "id": "il9U20A8eW6L"
      }
    },
    {
      "cell_type": "code",
      "source": [
        "# Check the tokenization of a sample input\n",
        "encoded = tokenizer.encode(\"chicken, garlic, onion\", out_type=int)\n",
        "decoded = tokenizer.decode(encoded)\n",
        "print(\"Encoded:\", encoded)\n",
        "print(\"Decoded:\", decoded)\n"
      ],
      "metadata": {
        "colab": {
          "base_uri": "https://localhost:8080/"
        },
        "id": "oq0PnyKWfM4z",
        "outputId": "abacd6a0-2e08-4380-861f-0aafab2ab013"
      },
      "execution_count": null,
      "outputs": [
        {
          "output_type": "stream",
          "name": "stdout",
          "text": [
            "Encoded: [85, 3, 53, 3, 95]\n",
            "Decoded: chicken, garlic, onion\n"
          ]
        }
      ]
    }
  ]
}